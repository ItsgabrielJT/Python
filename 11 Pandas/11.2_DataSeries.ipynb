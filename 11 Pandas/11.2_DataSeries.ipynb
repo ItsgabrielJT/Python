{
 "cells": [
  {
   "cell_type": "markdown",
   "metadata": {},
   "source": [
    "<b> Creaacion de series </b>"
   ]
  },
  {
   "cell_type": "code",
   "execution_count": 1,
   "metadata": {},
   "outputs": [],
   "source": [
    "import pandas as pd"
   ]
  },
  {
   "cell_type": "code",
   "execution_count": 3,
   "metadata": {},
   "outputs": [
    {
     "data": {
      "text/plain": [
       "1      Navas\n",
       "30     Messi\n",
       "10    Neymar\n",
       "dtype: object"
      ]
     },
     "execution_count": 3,
     "metadata": {},
     "output_type": "execute_result"
    }
   ],
   "source": [
    "# Creacion de series definiendo un indice\n",
    "series = pd.Series([\"Navas\", \"Messi\", \"Neymar\"], index=[1, 30, 10])\n",
    "series"
   ]
  },
  {
   "cell_type": "code",
   "execution_count": 4,
   "metadata": {},
   "outputs": [
    {
     "data": {
      "text/plain": [
       "0     Messi\n",
       "1    Suarez\n",
       "2    Neymar\n",
       "dtype: object"
      ]
     },
     "execution_count": 4,
     "metadata": {},
     "output_type": "execute_result"
    }
   ],
   "source": [
    "# Creacion de serires con indices por default\n",
    "seriesB = pd.Series([\"Messi\", \"Suarez\", \"Neymar\"])\n",
    "seriesB"
   ]
  },
  {
   "cell_type": "code",
   "execution_count": 6,
   "metadata": {},
   "outputs": [
    {
     "data": {
      "text/plain": [
       "30     Messi\n",
       "10    Neymar\n",
       "9     Suarez\n",
       "dtype: object"
      ]
     },
     "execution_count": 6,
     "metadata": {},
     "output_type": "execute_result"
    }
   ],
   "source": [
    "# Meidante un diccinario\n",
    "jugadores = {30: \"Messi\", 10: \"Neymar\", 9:\"Suarez\"}\n",
    "seriesC = pd.Series(jugadores)\n",
    "seriesC"
   ]
  }
 ],
 "metadata": {
  "kernelspec": {
   "display_name": "Python 3.10.4 ('pyx')",
   "language": "python",
   "name": "python3"
  },
  "language_info": {
   "codemirror_mode": {
    "name": "ipython",
    "version": 3
   },
   "file_extension": ".py",
   "mimetype": "text/x-python",
   "name": "python",
   "nbconvert_exporter": "python",
   "pygments_lexer": "ipython3",
   "version": "3.10.4"
  },
  "orig_nbformat": 4,
  "vscode": {
   "interpreter": {
    "hash": "c456a206b38136756eb3b7c48751e73f128e55b9a1b2dedc48b633b10db9f9bc"
   }
  }
 },
 "nbformat": 4,
 "nbformat_minor": 2
}
